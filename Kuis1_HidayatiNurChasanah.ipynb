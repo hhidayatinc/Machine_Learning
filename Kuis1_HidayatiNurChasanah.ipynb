{
  "nbformat": 4,
  "nbformat_minor": 0,
  "metadata": {
    "colab": {
      "provenance": [],
      "authorship_tag": "ABX9TyPL6G4b5NPsQ+C/2m2dbv9E",
      "include_colab_link": true
    },
    "kernelspec": {
      "name": "python3",
      "display_name": "Python 3"
    },
    "language_info": {
      "name": "python"
    }
  },
  "cells": [
    {
      "cell_type": "markdown",
      "metadata": {
        "id": "view-in-github",
        "colab_type": "text"
      },
      "source": [
        "<a href=\"https://colab.research.google.com/github/hhidayatinc/Machine_Learning/blob/main/Kuis1_HidayatiNurChasanah.ipynb\" target=\"_parent\"><img src=\"https://colab.research.google.com/assets/colab-badge.svg\" alt=\"Open In Colab\"/></a>"
      ]
    },
    {
      "cell_type": "code",
      "execution_count": 1,
      "metadata": {
        "id": "h7SEuiHKnQFv",
        "colab": {
          "base_uri": "https://localhost:8080/"
        },
        "outputId": "3bd54446-1261-4f4d-9d42-f8e7a041623c"
      },
      "outputs": [
        {
          "output_type": "stream",
          "name": "stdout",
          "text": [
            "Mounted at /content/drive\n"
          ]
        }
      ],
      "source": [
        "#connect googledrive\n",
        "from google.colab import drive\n",
        "\n",
        "drive.mount('/content/drive')"
      ]
    },
    {
      "cell_type": "code",
      "source": [
        "# import package\n",
        "import numpy as np\n",
        "import pandas as pd"
      ],
      "metadata": {
        "id": "uPLQLjk6oiC8"
      },
      "execution_count": 2,
      "outputs": []
    },
    {
      "cell_type": "code",
      "source": [
        "# baca data\n",
        "data = pd.read_csv('/content/drive/MyDrive/dataset/WHO_MHExp_and_Deaths.csv')\n",
        "data = data.dropna()\n",
        "data.head()"
      ],
      "metadata": {
        "colab": {
          "base_uri": "https://localhost:8080/",
          "height": 206
        },
        "id": "KaFk9TIOolrO",
        "outputId": "a95fbfb5-8c75-47d7-aaaa-04abfd6aea1e"
      },
      "execution_count": 74,
      "outputs": [
        {
          "output_type": "execute_result",
          "data": {
            "text/plain": [
              "  Country_Name  Year  Population  Deaths_All_Types  Deaths_Suicides  \\\n",
              "0      Armenia  2006   3219235.0             54404               78   \n",
              "1      Armenia  2007   3107395.5             53660                0   \n",
              "2      Armenia  2008   3234031.0             54824               63   \n",
              "3      Armenia  2009   3066044.0             55120               53   \n",
              "4      Armenia  2012   3024127.0             55200               79   \n",
              "\n",
              "   HExp_Pctage_Y  MHExp_Pctage_2011  Dep_Num_2015  Suicide_p100  \n",
              "0           5.85               3.38          4.99          5.36  \n",
              "1           5.50               3.38          4.99          5.02  \n",
              "2           6.64               3.38          4.99          4.23  \n",
              "3           8.44               3.38          4.99          4.06  \n",
              "4           9.13               3.38          4.99          6.39  "
            ],
            "text/html": [
              "\n",
              "  <div id=\"df-27559197-d860-44ab-9a28-cca5305ce83d\">\n",
              "    <div class=\"colab-df-container\">\n",
              "      <div>\n",
              "<style scoped>\n",
              "    .dataframe tbody tr th:only-of-type {\n",
              "        vertical-align: middle;\n",
              "    }\n",
              "\n",
              "    .dataframe tbody tr th {\n",
              "        vertical-align: top;\n",
              "    }\n",
              "\n",
              "    .dataframe thead th {\n",
              "        text-align: right;\n",
              "    }\n",
              "</style>\n",
              "<table border=\"1\" class=\"dataframe\">\n",
              "  <thead>\n",
              "    <tr style=\"text-align: right;\">\n",
              "      <th></th>\n",
              "      <th>Country_Name</th>\n",
              "      <th>Year</th>\n",
              "      <th>Population</th>\n",
              "      <th>Deaths_All_Types</th>\n",
              "      <th>Deaths_Suicides</th>\n",
              "      <th>HExp_Pctage_Y</th>\n",
              "      <th>MHExp_Pctage_2011</th>\n",
              "      <th>Dep_Num_2015</th>\n",
              "      <th>Suicide_p100</th>\n",
              "    </tr>\n",
              "  </thead>\n",
              "  <tbody>\n",
              "    <tr>\n",
              "      <th>0</th>\n",
              "      <td>Armenia</td>\n",
              "      <td>2006</td>\n",
              "      <td>3219235.0</td>\n",
              "      <td>54404</td>\n",
              "      <td>78</td>\n",
              "      <td>5.85</td>\n",
              "      <td>3.38</td>\n",
              "      <td>4.99</td>\n",
              "      <td>5.36</td>\n",
              "    </tr>\n",
              "    <tr>\n",
              "      <th>1</th>\n",
              "      <td>Armenia</td>\n",
              "      <td>2007</td>\n",
              "      <td>3107395.5</td>\n",
              "      <td>53660</td>\n",
              "      <td>0</td>\n",
              "      <td>5.50</td>\n",
              "      <td>3.38</td>\n",
              "      <td>4.99</td>\n",
              "      <td>5.02</td>\n",
              "    </tr>\n",
              "    <tr>\n",
              "      <th>2</th>\n",
              "      <td>Armenia</td>\n",
              "      <td>2008</td>\n",
              "      <td>3234031.0</td>\n",
              "      <td>54824</td>\n",
              "      <td>63</td>\n",
              "      <td>6.64</td>\n",
              "      <td>3.38</td>\n",
              "      <td>4.99</td>\n",
              "      <td>4.23</td>\n",
              "    </tr>\n",
              "    <tr>\n",
              "      <th>3</th>\n",
              "      <td>Armenia</td>\n",
              "      <td>2009</td>\n",
              "      <td>3066044.0</td>\n",
              "      <td>55120</td>\n",
              "      <td>53</td>\n",
              "      <td>8.44</td>\n",
              "      <td>3.38</td>\n",
              "      <td>4.99</td>\n",
              "      <td>4.06</td>\n",
              "    </tr>\n",
              "    <tr>\n",
              "      <th>4</th>\n",
              "      <td>Armenia</td>\n",
              "      <td>2012</td>\n",
              "      <td>3024127.0</td>\n",
              "      <td>55200</td>\n",
              "      <td>79</td>\n",
              "      <td>9.13</td>\n",
              "      <td>3.38</td>\n",
              "      <td>4.99</td>\n",
              "      <td>6.39</td>\n",
              "    </tr>\n",
              "  </tbody>\n",
              "</table>\n",
              "</div>\n",
              "      <button class=\"colab-df-convert\" onclick=\"convertToInteractive('df-27559197-d860-44ab-9a28-cca5305ce83d')\"\n",
              "              title=\"Convert this dataframe to an interactive table.\"\n",
              "              style=\"display:none;\">\n",
              "        \n",
              "  <svg xmlns=\"http://www.w3.org/2000/svg\" height=\"24px\"viewBox=\"0 0 24 24\"\n",
              "       width=\"24px\">\n",
              "    <path d=\"M0 0h24v24H0V0z\" fill=\"none\"/>\n",
              "    <path d=\"M18.56 5.44l.94 2.06.94-2.06 2.06-.94-2.06-.94-.94-2.06-.94 2.06-2.06.94zm-11 1L8.5 8.5l.94-2.06 2.06-.94-2.06-.94L8.5 2.5l-.94 2.06-2.06.94zm10 10l.94 2.06.94-2.06 2.06-.94-2.06-.94-.94-2.06-.94 2.06-2.06.94z\"/><path d=\"M17.41 7.96l-1.37-1.37c-.4-.4-.92-.59-1.43-.59-.52 0-1.04.2-1.43.59L10.3 9.45l-7.72 7.72c-.78.78-.78 2.05 0 2.83L4 21.41c.39.39.9.59 1.41.59.51 0 1.02-.2 1.41-.59l7.78-7.78 2.81-2.81c.8-.78.8-2.07 0-2.86zM5.41 20L4 18.59l7.72-7.72 1.47 1.35L5.41 20z\"/>\n",
              "  </svg>\n",
              "      </button>\n",
              "      \n",
              "  <style>\n",
              "    .colab-df-container {\n",
              "      display:flex;\n",
              "      flex-wrap:wrap;\n",
              "      gap: 12px;\n",
              "    }\n",
              "\n",
              "    .colab-df-convert {\n",
              "      background-color: #E8F0FE;\n",
              "      border: none;\n",
              "      border-radius: 50%;\n",
              "      cursor: pointer;\n",
              "      display: none;\n",
              "      fill: #1967D2;\n",
              "      height: 32px;\n",
              "      padding: 0 0 0 0;\n",
              "      width: 32px;\n",
              "    }\n",
              "\n",
              "    .colab-df-convert:hover {\n",
              "      background-color: #E2EBFA;\n",
              "      box-shadow: 0px 1px 2px rgba(60, 64, 67, 0.3), 0px 1px 3px 1px rgba(60, 64, 67, 0.15);\n",
              "      fill: #174EA6;\n",
              "    }\n",
              "\n",
              "    [theme=dark] .colab-df-convert {\n",
              "      background-color: #3B4455;\n",
              "      fill: #D2E3FC;\n",
              "    }\n",
              "\n",
              "    [theme=dark] .colab-df-convert:hover {\n",
              "      background-color: #434B5C;\n",
              "      box-shadow: 0px 1px 3px 1px rgba(0, 0, 0, 0.15);\n",
              "      filter: drop-shadow(0px 1px 2px rgba(0, 0, 0, 0.3));\n",
              "      fill: #FFFFFF;\n",
              "    }\n",
              "  </style>\n",
              "\n",
              "      <script>\n",
              "        const buttonEl =\n",
              "          document.querySelector('#df-27559197-d860-44ab-9a28-cca5305ce83d button.colab-df-convert');\n",
              "        buttonEl.style.display =\n",
              "          google.colab.kernel.accessAllowed ? 'block' : 'none';\n",
              "\n",
              "        async function convertToInteractive(key) {\n",
              "          const element = document.querySelector('#df-27559197-d860-44ab-9a28-cca5305ce83d');\n",
              "          const dataTable =\n",
              "            await google.colab.kernel.invokeFunction('convertToInteractive',\n",
              "                                                     [key], {});\n",
              "          if (!dataTable) return;\n",
              "\n",
              "          const docLinkHtml = 'Like what you see? Visit the ' +\n",
              "            '<a target=\"_blank\" href=https://colab.research.google.com/notebooks/data_table.ipynb>data table notebook</a>'\n",
              "            + ' to learn more about interactive tables.';\n",
              "          element.innerHTML = '';\n",
              "          dataTable['output_type'] = 'display_data';\n",
              "          await google.colab.output.renderOutput(dataTable, element);\n",
              "          const docLink = document.createElement('div');\n",
              "          docLink.innerHTML = docLinkHtml;\n",
              "          element.appendChild(docLink);\n",
              "        }\n",
              "      </script>\n",
              "    </div>\n",
              "  </div>\n",
              "  "
            ]
          },
          "metadata": {},
          "execution_count": 74
        }
      ]
    },
    {
      "cell_type": "code",
      "source": [
        "# pemahaman terhadap data\n",
        "# ukuran data\n",
        "data.shape\n",
        "\n",
        "# info data\n",
        "data.info()\n",
        "\n",
        "# deskripsi data\n",
        "data.describe()"
      ],
      "metadata": {
        "colab": {
          "base_uri": "https://localhost:8080/",
          "height": 592
        },
        "id": "R9OdzrypouAf",
        "outputId": "1cda84b7-7757-48c9-89fe-6feb4df6791f"
      },
      "execution_count": 75,
      "outputs": [
        {
          "output_type": "stream",
          "name": "stdout",
          "text": [
            "<class 'pandas.core.frame.DataFrame'>\n",
            "Int64Index: 531 entries, 0 to 530\n",
            "Data columns (total 9 columns):\n",
            " #   Column             Non-Null Count  Dtype  \n",
            "---  ------             --------------  -----  \n",
            " 0   Country_Name       531 non-null    object \n",
            " 1   Year               531 non-null    int64  \n",
            " 2   Population         531 non-null    float64\n",
            " 3   Deaths_All_Types   531 non-null    int64  \n",
            " 4   Deaths_Suicides    531 non-null    int64  \n",
            " 5   HExp_Pctage_Y      531 non-null    float64\n",
            " 6   MHExp_Pctage_2011  531 non-null    float64\n",
            " 7   Dep_Num_2015       531 non-null    float64\n",
            " 8   Suicide_p100       531 non-null    float64\n",
            "dtypes: float64(5), int64(3), object(1)\n",
            "memory usage: 41.5+ KB\n"
          ]
        },
        {
          "output_type": "execute_result",
          "data": {
            "text/plain": [
              "              Year    Population  Deaths_All_Types  Deaths_Suicides  \\\n",
              "count   531.000000  5.310000e+02      5.310000e+02       531.000000   \n",
              "mean   2009.694915  2.535148e+07      4.322763e+05       259.659134   \n",
              "std       5.572266  3.285463e+07      5.856799e+05      1075.051391   \n",
              "min    2000.000000  2.811540e+05      8.360000e+02         0.000000   \n",
              "25%    2005.000000  3.553031e+06      5.733600e+04         0.000000   \n",
              "50%    2010.000000  9.696110e+06      1.841500e+05         2.000000   \n",
              "75%    2014.000000  3.811594e+07      7.411640e+05        42.500000   \n",
              "max    2019.000000  2.101471e+08      2.762186e+06     20031.000000   \n",
              "\n",
              "       HExp_Pctage_Y  MHExp_Pctage_2011  Dep_Num_2015  Suicide_p100  \n",
              "count     531.000000         531.000000    531.000000    531.000000  \n",
              "mean        7.555631           5.731205      4.890603     10.832768  \n",
              "std         2.103642           2.952330      0.605882      5.491425  \n",
              "min         1.990000           0.390000      2.900000      0.820000  \n",
              "25%         6.100000           3.860000      4.570000      6.415000  \n",
              "50%         7.900000           5.080000      5.060000     10.240000  \n",
              "75%         9.070000           7.640000      5.190000     14.495000  \n",
              "max        13.680000          12.910000      5.940000     29.630000  "
            ],
            "text/html": [
              "\n",
              "  <div id=\"df-f3750cc7-add4-4805-81b8-62bdee3226bf\">\n",
              "    <div class=\"colab-df-container\">\n",
              "      <div>\n",
              "<style scoped>\n",
              "    .dataframe tbody tr th:only-of-type {\n",
              "        vertical-align: middle;\n",
              "    }\n",
              "\n",
              "    .dataframe tbody tr th {\n",
              "        vertical-align: top;\n",
              "    }\n",
              "\n",
              "    .dataframe thead th {\n",
              "        text-align: right;\n",
              "    }\n",
              "</style>\n",
              "<table border=\"1\" class=\"dataframe\">\n",
              "  <thead>\n",
              "    <tr style=\"text-align: right;\">\n",
              "      <th></th>\n",
              "      <th>Year</th>\n",
              "      <th>Population</th>\n",
              "      <th>Deaths_All_Types</th>\n",
              "      <th>Deaths_Suicides</th>\n",
              "      <th>HExp_Pctage_Y</th>\n",
              "      <th>MHExp_Pctage_2011</th>\n",
              "      <th>Dep_Num_2015</th>\n",
              "      <th>Suicide_p100</th>\n",
              "    </tr>\n",
              "  </thead>\n",
              "  <tbody>\n",
              "    <tr>\n",
              "      <th>count</th>\n",
              "      <td>531.000000</td>\n",
              "      <td>5.310000e+02</td>\n",
              "      <td>5.310000e+02</td>\n",
              "      <td>531.000000</td>\n",
              "      <td>531.000000</td>\n",
              "      <td>531.000000</td>\n",
              "      <td>531.000000</td>\n",
              "      <td>531.000000</td>\n",
              "    </tr>\n",
              "    <tr>\n",
              "      <th>mean</th>\n",
              "      <td>2009.694915</td>\n",
              "      <td>2.535148e+07</td>\n",
              "      <td>4.322763e+05</td>\n",
              "      <td>259.659134</td>\n",
              "      <td>7.555631</td>\n",
              "      <td>5.731205</td>\n",
              "      <td>4.890603</td>\n",
              "      <td>10.832768</td>\n",
              "    </tr>\n",
              "    <tr>\n",
              "      <th>std</th>\n",
              "      <td>5.572266</td>\n",
              "      <td>3.285463e+07</td>\n",
              "      <td>5.856799e+05</td>\n",
              "      <td>1075.051391</td>\n",
              "      <td>2.103642</td>\n",
              "      <td>2.952330</td>\n",
              "      <td>0.605882</td>\n",
              "      <td>5.491425</td>\n",
              "    </tr>\n",
              "    <tr>\n",
              "      <th>min</th>\n",
              "      <td>2000.000000</td>\n",
              "      <td>2.811540e+05</td>\n",
              "      <td>8.360000e+02</td>\n",
              "      <td>0.000000</td>\n",
              "      <td>1.990000</td>\n",
              "      <td>0.390000</td>\n",
              "      <td>2.900000</td>\n",
              "      <td>0.820000</td>\n",
              "    </tr>\n",
              "    <tr>\n",
              "      <th>25%</th>\n",
              "      <td>2005.000000</td>\n",
              "      <td>3.553031e+06</td>\n",
              "      <td>5.733600e+04</td>\n",
              "      <td>0.000000</td>\n",
              "      <td>6.100000</td>\n",
              "      <td>3.860000</td>\n",
              "      <td>4.570000</td>\n",
              "      <td>6.415000</td>\n",
              "    </tr>\n",
              "    <tr>\n",
              "      <th>50%</th>\n",
              "      <td>2010.000000</td>\n",
              "      <td>9.696110e+06</td>\n",
              "      <td>1.841500e+05</td>\n",
              "      <td>2.000000</td>\n",
              "      <td>7.900000</td>\n",
              "      <td>5.080000</td>\n",
              "      <td>5.060000</td>\n",
              "      <td>10.240000</td>\n",
              "    </tr>\n",
              "    <tr>\n",
              "      <th>75%</th>\n",
              "      <td>2014.000000</td>\n",
              "      <td>3.811594e+07</td>\n",
              "      <td>7.411640e+05</td>\n",
              "      <td>42.500000</td>\n",
              "      <td>9.070000</td>\n",
              "      <td>7.640000</td>\n",
              "      <td>5.190000</td>\n",
              "      <td>14.495000</td>\n",
              "    </tr>\n",
              "    <tr>\n",
              "      <th>max</th>\n",
              "      <td>2019.000000</td>\n",
              "      <td>2.101471e+08</td>\n",
              "      <td>2.762186e+06</td>\n",
              "      <td>20031.000000</td>\n",
              "      <td>13.680000</td>\n",
              "      <td>12.910000</td>\n",
              "      <td>5.940000</td>\n",
              "      <td>29.630000</td>\n",
              "    </tr>\n",
              "  </tbody>\n",
              "</table>\n",
              "</div>\n",
              "      <button class=\"colab-df-convert\" onclick=\"convertToInteractive('df-f3750cc7-add4-4805-81b8-62bdee3226bf')\"\n",
              "              title=\"Convert this dataframe to an interactive table.\"\n",
              "              style=\"display:none;\">\n",
              "        \n",
              "  <svg xmlns=\"http://www.w3.org/2000/svg\" height=\"24px\"viewBox=\"0 0 24 24\"\n",
              "       width=\"24px\">\n",
              "    <path d=\"M0 0h24v24H0V0z\" fill=\"none\"/>\n",
              "    <path d=\"M18.56 5.44l.94 2.06.94-2.06 2.06-.94-2.06-.94-.94-2.06-.94 2.06-2.06.94zm-11 1L8.5 8.5l.94-2.06 2.06-.94-2.06-.94L8.5 2.5l-.94 2.06-2.06.94zm10 10l.94 2.06.94-2.06 2.06-.94-2.06-.94-.94-2.06-.94 2.06-2.06.94z\"/><path d=\"M17.41 7.96l-1.37-1.37c-.4-.4-.92-.59-1.43-.59-.52 0-1.04.2-1.43.59L10.3 9.45l-7.72 7.72c-.78.78-.78 2.05 0 2.83L4 21.41c.39.39.9.59 1.41.59.51 0 1.02-.2 1.41-.59l7.78-7.78 2.81-2.81c.8-.78.8-2.07 0-2.86zM5.41 20L4 18.59l7.72-7.72 1.47 1.35L5.41 20z\"/>\n",
              "  </svg>\n",
              "      </button>\n",
              "      \n",
              "  <style>\n",
              "    .colab-df-container {\n",
              "      display:flex;\n",
              "      flex-wrap:wrap;\n",
              "      gap: 12px;\n",
              "    }\n",
              "\n",
              "    .colab-df-convert {\n",
              "      background-color: #E8F0FE;\n",
              "      border: none;\n",
              "      border-radius: 50%;\n",
              "      cursor: pointer;\n",
              "      display: none;\n",
              "      fill: #1967D2;\n",
              "      height: 32px;\n",
              "      padding: 0 0 0 0;\n",
              "      width: 32px;\n",
              "    }\n",
              "\n",
              "    .colab-df-convert:hover {\n",
              "      background-color: #E2EBFA;\n",
              "      box-shadow: 0px 1px 2px rgba(60, 64, 67, 0.3), 0px 1px 3px 1px rgba(60, 64, 67, 0.15);\n",
              "      fill: #174EA6;\n",
              "    }\n",
              "\n",
              "    [theme=dark] .colab-df-convert {\n",
              "      background-color: #3B4455;\n",
              "      fill: #D2E3FC;\n",
              "    }\n",
              "\n",
              "    [theme=dark] .colab-df-convert:hover {\n",
              "      background-color: #434B5C;\n",
              "      box-shadow: 0px 1px 3px 1px rgba(0, 0, 0, 0.15);\n",
              "      filter: drop-shadow(0px 1px 2px rgba(0, 0, 0, 0.3));\n",
              "      fill: #FFFFFF;\n",
              "    }\n",
              "  </style>\n",
              "\n",
              "      <script>\n",
              "        const buttonEl =\n",
              "          document.querySelector('#df-f3750cc7-add4-4805-81b8-62bdee3226bf button.colab-df-convert');\n",
              "        buttonEl.style.display =\n",
              "          google.colab.kernel.accessAllowed ? 'block' : 'none';\n",
              "\n",
              "        async function convertToInteractive(key) {\n",
              "          const element = document.querySelector('#df-f3750cc7-add4-4805-81b8-62bdee3226bf');\n",
              "          const dataTable =\n",
              "            await google.colab.kernel.invokeFunction('convertToInteractive',\n",
              "                                                     [key], {});\n",
              "          if (!dataTable) return;\n",
              "\n",
              "          const docLinkHtml = 'Like what you see? Visit the ' +\n",
              "            '<a target=\"_blank\" href=https://colab.research.google.com/notebooks/data_table.ipynb>data table notebook</a>'\n",
              "            + ' to learn more about interactive tables.';\n",
              "          element.innerHTML = '';\n",
              "          dataTable['output_type'] = 'display_data';\n",
              "          await google.colab.output.renderOutput(dataTable, element);\n",
              "          const docLink = document.createElement('div');\n",
              "          docLink.innerHTML = docLinkHtml;\n",
              "          element.appendChild(docLink);\n",
              "        }\n",
              "      </script>\n",
              "    </div>\n",
              "  </div>\n",
              "  "
            ]
          },
          "metadata": {},
          "execution_count": 75
        }
      ]
    },
    {
      "cell_type": "code",
      "source": [
        "# import library untuk visualisasi\n",
        "import matplotlib.pyplot as plt \n",
        "import seaborn as sns"
      ],
      "metadata": {
        "id": "KBrxBKvYo3vD"
      },
      "execution_count": 72,
      "outputs": []
    },
    {
      "cell_type": "code",
      "source": [
        "#menghitung tahun terbanyak adanya kematian\n",
        "jumlah_2000 = data['Year'].value_counts()[2000]\n",
        "jumlah_2001 = data['Year'].value_counts()[2001]\n",
        "jumlah_2002 = data['Year'].value_counts()[2002]\n",
        "jumlah_2003 = data['Year'].value_counts()[2003]\n",
        "jumlah_2004 = data['Year'].value_counts()[2004]\n",
        "jumlah_2005 = data['Year'].value_counts()[2005]\n",
        "jumlah_2006 = data['Year'].value_counts()[2006]\n",
        "jumlah_2007 = data['Year'].value_counts()[2007]\n",
        "jumlah_2008 = data['Year'].value_counts()[2008]\n",
        "jumlah_2009 = data['Year'].value_counts()[2009]\n",
        "jumlah_2010 = data['Year'].value_counts()[2010]\n",
        "jumlah_2011 = data['Year'].value_counts()[2011]\n",
        "jumlah_2012 = data['Year'].value_counts()[2012]\n",
        "jumlah_2013 = data['Year'].value_counts()[2013]\n",
        "jumlah_2014 = data['Year'].value_counts()[2014]\n",
        "jumlah_2015 = data['Year'].value_counts()[2015]\n",
        "jumlah_2016 = data['Year'].value_counts()[2016]\n",
        "jumlah_2017 = data['Year'].value_counts()[2017]\n",
        "jumlah_2018 = data['Year'].value_counts()[2018]\n",
        "jumlah_2019 = data['Year'].value_counts()[2019]\n",
        "\n",
        "# Membuat Bar Graph\n",
        "plt.bar(['00', '01', '02', '03', '04', '05', '06', '07', '08', '09', '10', '11', '12', '13', '14', '15', '16', '17', '18', '19'], \n",
        "        [jumlah_2000, jumlah_2001, jumlah_2002, jumlah_2003, jumlah_2004, jumlah_2005, jumlah_2006, jumlah_2007, jumlah_2008, jumlah_2009,\n",
        "         jumlah_2010, jumlah_2011, jumlah_2012, jumlah_2013, jumlah_2014, jumlah_2015, jumlah_2016, jumlah_2017, jumlah_2018, jumlah_2019])\n",
        "plt.title('Perbandingan tahun terbanyak adanya kematian (2000-2019)')\n",
        "plt.show()"
      ],
      "metadata": {
        "id": "FoVcMSPT08By",
        "outputId": "f6e59cb9-720c-4d50-bfc2-c42a19547873",
        "colab": {
          "base_uri": "https://localhost:8080/",
          "height": 281
        }
      },
      "execution_count": 85,
      "outputs": [
        {
          "output_type": "display_data",
          "data": {
            "text/plain": [
              "<Figure size 432x288 with 1 Axes>"
            ],
            "image/png": "[encoded data removed]"
          },
          "metadata": {
            "needs_background": "light"
          }
        }
      ]
    },
    {
      "cell_type": "markdown",
      "source": [
        "Pada 2009 merupakan tahun terbanyak adanya kematian berdasarkan data yang dimaksud"
      ],
      "metadata": {
        "id": "rZVTsCO82-d9"
      }
    },
    {
      "cell_type": "code",
      "source": [
        "sns.heatmap(data.corr(), cmap=\"YlGnBu\", annot = True)\n",
        "plt.show()"
      ],
      "metadata": {
        "colab": {
          "base_uri": "https://localhost:8080/",
          "height": 363
        },
        "id": "dP4kPJK3o6Wq",
        "outputId": "f23e59df-7aa9-46df-af64-c2c6d0546234"
      },
      "execution_count": 76,
      "outputs": [
        {
          "output_type": "display_data",
          "data": {
            "text/plain": [
              "<Figure size 432x288 with 2 Axes>"
            ],
            "image/png": "[encoded data removed]"
          },
          "metadata": {
            "needs_background": "light"
          }
        }
      ]
    },
    {
      "cell_type": "code",
      "source": [
        "# Buat variabel bebas X dan Y, sebagai contoh ambil dari hasil analisis korelasi dari kegaitan sebelumnya\n",
        "X = data['Population']\n",
        "y = data['Deaths_All_Types']\n",
        "\n",
        "# Buat pemisahan data uji dan data latih dengan proporsi 7:3\n",
        "from sklearn.model_selection import train_test_split\n",
        "X_train, X_test, y_train, y_test = train_test_split(X, y, train_size = 0.7, \n",
        "                                                    test_size = 0.3, random_state = 100)\n",
        "\n",
        "# hasil training dtaset\n",
        "X_train\n",
        "y_train"
      ],
      "metadata": {
        "colab": {
          "base_uri": "https://localhost:8080/"
        },
        "id": "QGx7rkdxpr6L",
        "outputId": "126fbbeb-27b4-4a03-a6a9-5540c9e112d0"
      },
      "execution_count": 62,
      "outputs": [
        {
          "output_type": "execute_result",
          "data": {
            "text/plain": [
              "450      41176\n",
              "129     109046\n",
              "380     769576\n",
              "239    1199396\n",
              "21      286946\n",
              "        ...   \n",
              "526     304070\n",
              "53      439076\n",
              "350     306726\n",
              "79      863276\n",
              "520     267220\n",
              "Name: Deaths_All_Types, Length: 371, dtype: int64"
            ]
          },
          "metadata": {},
          "execution_count": 62
        }
      ]
    },
    {
      "cell_type": "code",
      "source": [
        "# training model\n",
        "import statsmodels.api as sm\n",
        "\n",
        "X_train_sm = sm.add_constant(X_train)\n",
        "# fitting garis regresi\n",
        "lr = sm.OLS(y_train, X_train_sm).fit()\n",
        "lr.params\n",
        "# analisis statistika dari garis regresi\n",
        "lr.summary()"
      ],
      "metadata": {
        "colab": {
          "base_uri": "https://localhost:8080/",
          "height": 518
        },
        "id": "27XD9n4fp4sT",
        "outputId": "1bb39a90-9bb8-484b-9292-24ac78cd5540"
      },
      "execution_count": 52,
      "outputs": [
        {
          "output_type": "stream",
          "name": "stderr",
          "text": [
            "/usr/local/lib/python3.7/dist-packages/statsmodels/tsa/tsatools.py:142: FutureWarning: In a future version of pandas all arguments of concat except for the argument 'objs' will be keyword-only\n",
            "  x = pd.concat(x[::order], 1)\n"
          ]
        },
        {
          "output_type": "execute_result",
          "data": {
            "text/plain": [
              "<class 'statsmodels.iolib.summary.Summary'>\n",
              "\"\"\"\n",
              "                            OLS Regression Results                            \n",
              "==============================================================================\n",
              "Dep. Variable:       Deaths_All_Types   R-squared:                       0.923\n",
              "Model:                            OLS   Adj. R-squared:                  0.923\n",
              "Method:                 Least Squares   F-statistic:                     4421.\n",
              "Date:                Wed, 21 Sep 2022   Prob (F-statistic):          1.70e-207\n",
              "Time:                        06:36:27   Log-Likelihood:                -4991.2\n",
              "No. Observations:                 371   AIC:                             9986.\n",
              "Df Residuals:                     369   BIC:                             9994.\n",
              "Df Model:                           1                                         \n",
              "Covariance Type:            nonrobust                                         \n",
              "==============================================================================\n",
              "                 coef    std err          t      P>|t|      [0.025      0.975]\n",
              "------------------------------------------------------------------------------\n",
              "const      -6494.3744   1.12e+04     -0.581      0.561   -2.85e+04    1.55e+04\n",
              "Population     0.0171      0.000     66.490      0.000       0.017       0.018\n",
              "==============================================================================\n",
              "Omnibus:                       51.510   Durbin-Watson:                   1.966\n",
              "Prob(Omnibus):                  0.000   Jarque-Bera (JB):              321.530\n",
              "Skew:                          -0.332   Prob(JB):                     1.52e-70\n",
              "Kurtosis:                       7.512   Cond. No.                     5.54e+07\n",
              "==============================================================================\n",
              "\n",
              "Notes:\n",
              "[1] Standard Errors assume that the covariance matrix of the errors is correctly specified.\n",
              "[2] The condition number is large, 5.54e+07. This might indicate that there are\n",
              "strong multicollinearity or other numerical problems.\n",
              "\"\"\""
            ],
            "text/html": [
              "<table class=\"simpletable\">\n",
              "<caption>OLS Regression Results</caption>\n",
              "<tr>\n",
              "  <th>Dep. Variable:</th>    <td>Deaths_All_Types</td> <th>  R-squared:         </th> <td>   0.923</td> \n",
              "</tr>\n",
              "<tr>\n",
              "  <th>Model:</th>                   <td>OLS</td>       <th>  Adj. R-squared:    </th> <td>   0.923</td> \n",
              "</tr>\n",
              "<tr>\n",
              "  <th>Method:</th>             <td>Least Squares</td>  <th>  F-statistic:       </th> <td>   4421.</td> \n",
              "</tr>\n",
              "<tr>\n",
              "  <th>Date:</th>             <td>Wed, 21 Sep 2022</td> <th>  Prob (F-statistic):</th> <td>1.70e-207</td>\n",
              "</tr>\n",
              "<tr>\n",
              "  <th>Time:</th>                 <td>06:36:27</td>     <th>  Log-Likelihood:    </th> <td> -4991.2</td> \n",
              "</tr>\n",
              "<tr>\n",
              "  <th>No. Observations:</th>      <td>   371</td>      <th>  AIC:               </th> <td>   9986.</td> \n",
              "</tr>\n",
              "<tr>\n",
              "  <th>Df Residuals:</th>          <td>   369</td>      <th>  BIC:               </th> <td>   9994.</td> \n",
              "</tr>\n",
              "<tr>\n",
              "  <th>Df Model:</th>              <td>     1</td>      <th>                     </th>     <td> </td>    \n",
              "</tr>\n",
              "<tr>\n",
              "  <th>Covariance Type:</th>      <td>nonrobust</td>    <th>                     </th>     <td> </td>    \n",
              "</tr>\n",
              "</table>\n",
              "<table class=\"simpletable\">\n",
              "<tr>\n",
              "       <td></td>         <th>coef</th>     <th>std err</th>      <th>t</th>      <th>P>|t|</th>  <th>[0.025</th>    <th>0.975]</th>  \n",
              "</tr>\n",
              "<tr>\n",
              "  <th>const</th>      <td>-6494.3744</td> <td> 1.12e+04</td> <td>   -0.581</td> <td> 0.561</td> <td>-2.85e+04</td> <td> 1.55e+04</td>\n",
              "</tr>\n",
              "<tr>\n",
              "  <th>Population</th> <td>    0.0171</td> <td>    0.000</td> <td>   66.490</td> <td> 0.000</td> <td>    0.017</td> <td>    0.018</td>\n",
              "</tr>\n",
              "</table>\n",
              "<table class=\"simpletable\">\n",
              "<tr>\n",
              "  <th>Omnibus:</th>       <td>51.510</td> <th>  Durbin-Watson:     </th> <td>   1.966</td>\n",
              "</tr>\n",
              "<tr>\n",
              "  <th>Prob(Omnibus):</th> <td> 0.000</td> <th>  Jarque-Bera (JB):  </th> <td> 321.530</td>\n",
              "</tr>\n",
              "<tr>\n",
              "  <th>Skew:</th>          <td>-0.332</td> <th>  Prob(JB):          </th> <td>1.52e-70</td>\n",
              "</tr>\n",
              "<tr>\n",
              "  <th>Kurtosis:</th>      <td> 7.512</td> <th>  Cond. No.          </th> <td>5.54e+07</td>\n",
              "</tr>\n",
              "</table><br/><br/>Notes:<br/>[1] Standard Errors assume that the covariance matrix of the errors is correctly specified.<br/>[2] The condition number is large, 5.54e+07. This might indicate that there are<br/>strong multicollinearity or other numerical problems."
            ]
          },
          "metadata": {},
          "execution_count": 52
        }
      ]
    },
    {
      "cell_type": "code",
      "source": [
        "# visualisasi garis regresi\n",
        "plt.scatter(X_train, y_train)\n",
        "plt.plot(X_train, 265.2483 + 66.3015*X_train, 'r')\n",
        "plt.show()"
      ],
      "metadata": {
        "colab": {
          "base_uri": "https://localhost:8080/",
          "height": 289
        },
        "id": "4uo0mxy3p8MT",
        "outputId": "06b825c0-904f-4f75-b635-75185b0502de"
      },
      "execution_count": 53,
      "outputs": [
        {
          "output_type": "display_data",
          "data": {
            "text/plain": [
              "<Figure size 432x288 with 1 Axes>"
            ],
            "image/png": "[encoded data removed]"
          },
          "metadata": {
            "needs_background": "light"
          }
        }
      ]
    },
    {
      "cell_type": "code",
      "source": [
        "# prediksi y_value dari data x yang telah dilatih\n",
        "y_train_pred = lr.predict(X_train_sm)\n",
        "\n",
        "res = (y_train - y_train_pred)"
      ],
      "metadata": {
        "id": "KYByTGSCqGId"
      },
      "execution_count": 54,
      "outputs": []
    },
    {
      "cell_type": "code",
      "source": [
        "# cek histogram apakah berdistribusi normal atau tidak\n",
        "fig = plt.figure()\n",
        "sns.distplot(res, bins = 15)\n",
        "plt.title('Error Terms', fontsize = 15)\n",
        "plt.xlabel('y_train - y_train_pred', fontsize = 15)\n",
        "plt.show()"
      ],
      "metadata": {
        "colab": {
          "base_uri": "https://localhost:8080/",
          "height": 360
        },
        "id": "t6YN0BD8qI0A",
        "outputId": "04ca9aed-b516-4bfc-d65f-5f35b50e3c50"
      },
      "execution_count": 55,
      "outputs": [
        {
          "output_type": "stream",
          "name": "stderr",
          "text": [
            "/usr/local/lib/python3.7/dist-packages/seaborn/distributions.py:2619: FutureWarning: `distplot` is a deprecated function and will be removed in a future version. Please adapt your code to use either `displot` (a figure-level function with similar flexibility) or `histplot` (an axes-level function for histograms).\n",
            "  warnings.warn(msg, FutureWarning)\n"
          ]
        },
        {
          "output_type": "display_data",
          "data": {
            "text/plain": [
              "<Figure size 432x288 with 1 Axes>"
            ],
            "image/png": "[encoded data removed]"
          },
          "metadata": {
            "needs_background": "light"
          }
        }
      ]
    },
    {
      "cell_type": "code",
      "source": [
        "plt.scatter(X_train,res)\n",
        "plt.show()"
      ],
      "metadata": {
        "colab": {
          "base_uri": "https://localhost:8080/",
          "height": 278
        },
        "id": "bCiAXKm1qOXR",
        "outputId": "5cb41171-aa3d-483b-8f28-2478629f92ef"
      },
      "execution_count": 56,
      "outputs": [
        {
          "output_type": "display_data",
          "data": {
            "text/plain": [
              "<Figure size 432x288 with 1 Axes>"
            ],
            "image/png": "[encoded data removed]"
          },
          "metadata": {
            "needs_background": "light"
          }
        }
      ]
    },
    {
      "cell_type": "code",
      "source": [
        "# prediksi pada data uji dan evaluasi model\n",
        "X_test_sm = sm.add_constant(X_test)\n",
        "\n",
        "# prediksi y value yang berkorelasi dengan X_test_sm\n",
        "y_test_pred = lr.predict(X_test_sm)\n",
        "\n",
        "# cetak 5 data terprediksi teratas\n",
        "y_test_pred.head()"
      ],
      "metadata": {
        "colab": {
          "base_uri": "https://localhost:8080/"
        },
        "id": "jBMHFvkAqQtL",
        "outputId": "32364465-10a5-4802-9082-d534cda15add"
      },
      "execution_count": 57,
      "outputs": [
        {
          "output_type": "stream",
          "name": "stderr",
          "text": [
            "/usr/local/lib/python3.7/dist-packages/statsmodels/tsa/tsatools.py:142: FutureWarning: In a future version of pandas all arguments of concat except for the argument 'objs' will be keyword-only\n",
            "  x = pd.concat(x[::order], 1)\n"
          ]
        },
        {
          "output_type": "execute_result",
          "data": {
            "text/plain": [
              "391    172894.748888\n",
              "474    145937.305701\n",
              "421     54123.259099\n",
              "310    497514.970342\n",
              "302     26420.331822\n",
              "dtype: float64"
            ]
          },
          "metadata": {},
          "execution_count": 57
        }
      ]
    },
    {
      "cell_type": "code",
      "source": [
        "# hitung nilai r^2\n",
        "from sklearn.metrics import r2_score\n",
        "\n",
        "r_squared = r2_score(y_test, y_test_pred)\n",
        "r_squared"
      ],
      "metadata": {
        "colab": {
          "base_uri": "https://localhost:8080/"
        },
        "id": "KPlHlU8aqa_8",
        "outputId": "9c96f25c-a8ea-4626-9a88-971a658270f7"
      },
      "execution_count": 58,
      "outputs": [
        {
          "output_type": "execute_result",
          "data": {
            "text/plain": [
              "0.9407414359662741"
            ]
          },
          "metadata": {},
          "execution_count": 58
        }
      ]
    },
    {
      "cell_type": "code",
      "source": [
        "# visualisasi data\n",
        "plt.scatter(X_test, y_test)\n",
        "plt.plot(X_test, y_test_pred, 'r')\n",
        "plt.show()"
      ],
      "metadata": {
        "colab": {
          "base_uri": "https://localhost:8080/",
          "height": 289
        },
        "id": "Sd7mC5hpw4T2",
        "outputId": "04df2eaa-6ddc-4b93-840e-07861288d597"
      },
      "execution_count": 69,
      "outputs": [
        {
          "output_type": "display_data",
          "data": {
            "text/plain": [
              "<Figure size 432x288 with 1 Axes>"
            ],
            "image/png": "[encoded data removed]"
          },
          "metadata": {
            "needs_background": "light"
          }
        }
      ]
    }
  ]
}