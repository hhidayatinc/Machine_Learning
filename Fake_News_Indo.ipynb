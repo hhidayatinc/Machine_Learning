{
  "nbformat": 4,
  "nbformat_minor": 0,
  "metadata": {
    "colab": {
      "provenance": [],
      "authorship_tag": "ABX9TyNErKEmIFKZHf+4sO20XbA6",
      "include_colab_link": true
    },
    "kernelspec": {
      "name": "python3",
      "display_name": "Python 3"
    },
    "language_info": {
      "name": "python"
    }
  },
  "cells": [
    {
      "cell_type": "markdown",
      "metadata": {
        "id": "view-in-github",
        "colab_type": "text"
      },
      "source": [
        "<a href=\"https://colab.research.google.com/github/hhidayatinc/Machine_Learning/blob/main/Fake_News_Indo.ipynb\" target=\"_parent\"><img src=\"https://colab.research.google.com/assets/colab-badge.svg\" alt=\"Open In Colab\"/></a>"
      ]
    },
    {
      "cell_type": "code",
      "execution_count": 1,
      "metadata": {
        "colab": {
          "base_uri": "https://localhost:8080/"
        },
        "id": "xQUcLYWt7aVg",
        "outputId": "545a60bc-6b35-40aa-bc42-4913de5ed7b0"
      },
      "outputs": [
        {
          "output_type": "stream",
          "name": "stdout",
          "text": [
            "Mounted at /content/drive\n"
          ]
        }
      ],
      "source": [
        "from google.colab import drive\n",
        "drive.mount('/content/drive')"
      ]
    },
    {
      "cell_type": "code",
      "source": [
        "!pip install Sastrawi"
      ],
      "metadata": {
        "colab": {
          "base_uri": "https://localhost:8080/"
        },
        "id": "JnjNodc07lhS",
        "outputId": "4acc23fe-d070-4560-b867-d1cbc67025da"
      },
      "execution_count": 15,
      "outputs": [
        {
          "output_type": "stream",
          "name": "stdout",
          "text": [
            "Looking in indexes: https://pypi.org/simple, https://us-python.pkg.dev/colab-wheels/public/simple/\n",
            "Requirement already satisfied: Sastrawi in /usr/local/lib/python3.8/dist-packages (1.0.1)\n"
          ]
        }
      ]
    },
    {
      "cell_type": "code",
      "source": [
        "import pandas as pd\n",
        "import numpy as np\n",
        "import nltk\n",
        "from nltk.tokenize import word_tokenize\n",
        "from sklearn.preprocessing import LabelEncoder\n",
        "from sklearn.feature_extraction.text import TfidfVectorizer\n",
        "from sklearn import svm\n",
        "from sklearn.naive_bayes import MultinomialNB\n",
        "from sklearn.ensemble import RandomForestClassifier\n",
        "from sklearn.metrics import accuracy_score\n",
        "from sklearn.model_selection import train_test_split\n",
        "from Sastrawi.Stemmer.StemmerFactory import StemmerFactory"
      ],
      "metadata": {
        "id": "TnZPLj0k75_W"
      },
      "execution_count": 16,
      "outputs": []
    },
    {
      "cell_type": "code",
      "source": [
        "# Random seed for consistency\n",
        "np.random.seed(42)\n",
        "\n",
        "nltk.download('punkt')"
      ],
      "metadata": {
        "colab": {
          "base_uri": "https://localhost:8080/"
        },
        "id": "ogoV7rNS8Y-U",
        "outputId": "178a48bd-5345-46cb-830c-fbfa2e4d0765"
      },
      "execution_count": 4,
      "outputs": [
        {
          "output_type": "stream",
          "name": "stderr",
          "text": [
            "[nltk_data] Downloading package punkt to /root/nltk_data...\n",
            "[nltk_data]   Unzipping tokenizers/punkt.zip.\n"
          ]
        },
        {
          "output_type": "execute_result",
          "data": {
            "text/plain": [
              "True"
            ]
          },
          "metadata": {},
          "execution_count": 4
        }
      ]
    },
    {
      "cell_type": "code",
      "source": [
        "# Create stemmer\n",
        "factory = StemmerFactory()\n",
        "stemmer = factory.create_stemmer()\n",
        "\n",
        "# Label Encoder use to Encode target labels with value between 0 and n_classes-1\n",
        "Encoder = LabelEncoder()\n",
        "\n",
        "# TfidfVectorizer Convert a collection of raw documents to a matrix of TF-IDF features.\n",
        "Tfidf_vect = TfidfVectorizer()"
      ],
      "metadata": {
        "id": "Mgrjstym8biA"
      },
      "execution_count": 5,
      "outputs": []
    },
    {
      "cell_type": "code",
      "source": [
        "# Baca data\n",
        "data_train = pd.read_csv('/content/drive/MyDrive/dataset/Data_latih.csv')\n",
        "data_train.head()"
      ],
      "metadata": {
        "colab": {
          "base_uri": "https://localhost:8080/",
          "height": 389
        },
        "id": "tw3c0in68hKZ",
        "outputId": "57e5c5b3-284a-4119-950d-ccd567099dde"
      },
      "execution_count": 17,
      "outputs": [
        {
          "output_type": "execute_result",
          "data": {
            "text/plain": [
              "    ID  label    tanggal                                              judul  \\\n",
              "0   71      1  17-Aug-20  Pemakaian Masker Menyebabkan Penyakit Legionna...   \n",
              "1  461      1  17-Jul-20  Instruksi Gubernur Jateng tentang penilangan  ...   \n",
              "2  495      1  13-Jul-20  Foto Jim Rohn: Jokowi adalah presiden terbaik ...   \n",
              "3  550      1   8-Jul-20  ini bukan politik, tapi kenyataan Pak Jokowi b...   \n",
              "4  681      1  24-Jun-20       Foto Kadrun kalo lihat foto ini panas dingin   \n",
              "\n",
              "                                              narasi nama file gambar  \n",
              "0  A caller to a radio talk show recently shared ...           71.jpg  \n",
              "1  Yth.Seluruh Anggota Grup Sesuai Instruksi Gube...          461.png  \n",
              "2  Jokowi adalah presiden terbaik dlm sejarah ban...          495.png  \n",
              "3  Maaf Mas2 dan Mbak2, ini bukan politik, tapi k...          550.png  \n",
              "4        Kadrun kalo lihat foto ini panas dingin . .          681.jpg  "
            ],
            "text/html": [
              "\n",
              "  <div id=\"df-b4786254-a99e-4279-b0a2-9243d6bd6090\">\n",
              "    <div class=\"colab-df-container\">\n",
              "      <div>\n",
              "<style scoped>\n",
              "    .dataframe tbody tr th:only-of-type {\n",
              "        vertical-align: middle;\n",
              "    }\n",
              "\n",
              "    .dataframe tbody tr th {\n",
              "        vertical-align: top;\n",
              "    }\n",
              "\n",
              "    .dataframe thead th {\n",
              "        text-align: right;\n",
              "    }\n",
              "</style>\n",
              "<table border=\"1\" class=\"dataframe\">\n",
              "  <thead>\n",
              "    <tr style=\"text-align: right;\">\n",
              "      <th></th>\n",
              "      <th>ID</th>\n",
              "      <th>label</th>\n",
              "      <th>tanggal</th>\n",
              "      <th>judul</th>\n",
              "      <th>narasi</th>\n",
              "      <th>nama file gambar</th>\n",
              "    </tr>\n",
              "  </thead>\n",
              "  <tbody>\n",
              "    <tr>\n",
              "      <th>0</th>\n",
              "      <td>71</td>\n",
              "      <td>1</td>\n",
              "      <td>17-Aug-20</td>\n",
              "      <td>Pemakaian Masker Menyebabkan Penyakit Legionna...</td>\n",
              "      <td>A caller to a radio talk show recently shared ...</td>\n",
              "      <td>71.jpg</td>\n",
              "    </tr>\n",
              "    <tr>\n",
              "      <th>1</th>\n",
              "      <td>461</td>\n",
              "      <td>1</td>\n",
              "      <td>17-Jul-20</td>\n",
              "      <td>Instruksi Gubernur Jateng tentang penilangan  ...</td>\n",
              "      <td>Yth.Seluruh Anggota Grup Sesuai Instruksi Gube...</td>\n",
              "      <td>461.png</td>\n",
              "    </tr>\n",
              "    <tr>\n",
              "      <th>2</th>\n",
              "      <td>495</td>\n",
              "      <td>1</td>\n",
              "      <td>13-Jul-20</td>\n",
              "      <td>Foto Jim Rohn: Jokowi adalah presiden terbaik ...</td>\n",
              "      <td>Jokowi adalah presiden terbaik dlm sejarah ban...</td>\n",
              "      <td>495.png</td>\n",
              "    </tr>\n",
              "    <tr>\n",
              "      <th>3</th>\n",
              "      <td>550</td>\n",
              "      <td>1</td>\n",
              "      <td>8-Jul-20</td>\n",
              "      <td>ini bukan politik, tapi kenyataan Pak Jokowi b...</td>\n",
              "      <td>Maaf Mas2 dan Mbak2, ini bukan politik, tapi k...</td>\n",
              "      <td>550.png</td>\n",
              "    </tr>\n",
              "    <tr>\n",
              "      <th>4</th>\n",
              "      <td>681</td>\n",
              "      <td>1</td>\n",
              "      <td>24-Jun-20</td>\n",
              "      <td>Foto Kadrun kalo lihat foto ini panas dingin</td>\n",
              "      <td>Kadrun kalo lihat foto ini panas dingin . .</td>\n",
              "      <td>681.jpg</td>\n",
              "    </tr>\n",
              "  </tbody>\n",
              "</table>\n",
              "</div>\n",
              "      <button class=\"colab-df-convert\" onclick=\"convertToInteractive('df-b4786254-a99e-4279-b0a2-9243d6bd6090')\"\n",
              "              title=\"Convert this dataframe to an interactive table.\"\n",
              "              style=\"display:none;\">\n",
              "        \n",
              "  <svg xmlns=\"http://www.w3.org/2000/svg\" height=\"24px\"viewBox=\"0 0 24 24\"\n",
              "       width=\"24px\">\n",
              "    <path d=\"M0 0h24v24H0V0z\" fill=\"none\"/>\n",
              "    <path d=\"M18.56 5.44l.94 2.06.94-2.06 2.06-.94-2.06-.94-.94-2.06-.94 2.06-2.06.94zm-11 1L8.5 8.5l.94-2.06 2.06-.94-2.06-.94L8.5 2.5l-.94 2.06-2.06.94zm10 10l.94 2.06.94-2.06 2.06-.94-2.06-.94-.94-2.06-.94 2.06-2.06.94z\"/><path d=\"M17.41 7.96l-1.37-1.37c-.4-.4-.92-.59-1.43-.59-.52 0-1.04.2-1.43.59L10.3 9.45l-7.72 7.72c-.78.78-.78 2.05 0 2.83L4 21.41c.39.39.9.59 1.41.59.51 0 1.02-.2 1.41-.59l7.78-7.78 2.81-2.81c.8-.78.8-2.07 0-2.86zM5.41 20L4 18.59l7.72-7.72 1.47 1.35L5.41 20z\"/>\n",
              "  </svg>\n",
              "      </button>\n",
              "      \n",
              "  <style>\n",
              "    .colab-df-container {\n",
              "      display:flex;\n",
              "      flex-wrap:wrap;\n",
              "      gap: 12px;\n",
              "    }\n",
              "\n",
              "    .colab-df-convert {\n",
              "      background-color: #E8F0FE;\n",
              "      border: none;\n",
              "      border-radius: 50%;\n",
              "      cursor: pointer;\n",
              "      display: none;\n",
              "      fill: #1967D2;\n",
              "      height: 32px;\n",
              "      padding: 0 0 0 0;\n",
              "      width: 32px;\n",
              "    }\n",
              "\n",
              "    .colab-df-convert:hover {\n",
              "      background-color: #E2EBFA;\n",
              "      box-shadow: 0px 1px 2px rgba(60, 64, 67, 0.3), 0px 1px 3px 1px rgba(60, 64, 67, 0.15);\n",
              "      fill: #174EA6;\n",
              "    }\n",
              "\n",
              "    [theme=dark] .colab-df-convert {\n",
              "      background-color: #3B4455;\n",
              "      fill: #D2E3FC;\n",
              "    }\n",
              "\n",
              "    [theme=dark] .colab-df-convert:hover {\n",
              "      background-color: #434B5C;\n",
              "      box-shadow: 0px 1px 3px 1px rgba(0, 0, 0, 0.15);\n",
              "      filter: drop-shadow(0px 1px 2px rgba(0, 0, 0, 0.3));\n",
              "      fill: #FFFFFF;\n",
              "    }\n",
              "  </style>\n",
              "\n",
              "      <script>\n",
              "        const buttonEl =\n",
              "          document.querySelector('#df-b4786254-a99e-4279-b0a2-9243d6bd6090 button.colab-df-convert');\n",
              "        buttonEl.style.display =\n",
              "          google.colab.kernel.accessAllowed ? 'block' : 'none';\n",
              "\n",
              "        async function convertToInteractive(key) {\n",
              "          const element = document.querySelector('#df-b4786254-a99e-4279-b0a2-9243d6bd6090');\n",
              "          const dataTable =\n",
              "            await google.colab.kernel.invokeFunction('convertToInteractive',\n",
              "                                                     [key], {});\n",
              "          if (!dataTable) return;\n",
              "\n",
              "          const docLinkHtml = 'Like what you see? Visit the ' +\n",
              "            '<a target=\"_blank\" href=https://colab.research.google.com/notebooks/data_table.ipynb>data table notebook</a>'\n",
              "            + ' to learn more about interactive tables.';\n",
              "          element.innerHTML = '';\n",
              "          dataTable['output_type'] = 'display_data';\n",
              "          await google.colab.output.renderOutput(dataTable, element);\n",
              "          const docLink = document.createElement('div');\n",
              "          docLink.innerHTML = docLinkHtml;\n",
              "          element.appendChild(docLink);\n",
              "        }\n",
              "      </script>\n",
              "    </div>\n",
              "  </div>\n",
              "  "
            ]
          },
          "metadata": {},
          "execution_count": 17
        }
      ]
    },
    {
      "cell_type": "code",
      "source": [
        "data_train['label'].value_counts()"
      ],
      "metadata": {
        "colab": {
          "base_uri": "https://localhost:8080/"
        },
        "id": "fd1mtNTg8j5F",
        "outputId": "818ce269-2f4d-4788-c7ac-2d0128349803"
      },
      "execution_count": 18,
      "outputs": [
        {
          "output_type": "execute_result",
          "data": {
            "text/plain": [
              "1    3465\n",
              "0     766\n",
              "Name: label, dtype: int64"
            ]
          },
          "metadata": {},
          "execution_count": 18
        }
      ]
    },
    {
      "cell_type": "code",
      "source": [
        "# Dari cell sebelumnya terlihat jelas bahwa dataset kita sangat tidak balance\n",
        "# Untuk membuat datasetnya balance\n",
        "\n",
        "# Pilih dataset dengan label 1 dan lakukan randomisasi untuk setiap baris datanya\n",
        "false_news = data_train[data_train['label'] == 1].sample(frac=1)\n",
        "\n",
        "# Concat dataset berlabel 1 yang telah dipilih dengan dataset berlabel 0\n",
        "# dimana jumlah dataset berlabel 1 yang digabungkan sejumlah banyak dataset berlabel 0 + 200\n",
        "true_fact = data_train[data_train['label'] == 0]\n",
        "df = true_fact.append(false_news[:len(true_fact) + 200])\n",
        "\n",
        "df"
      ],
      "metadata": {
        "colab": {
          "base_uri": "https://localhost:8080/",
          "height": 832
        },
        "id": "PjSVQM4M8qsZ",
        "outputId": "5e141169-80a8-4741-b92f-5658a0d8a8fd"
      },
      "execution_count": 19,
      "outputs": [
        {
          "output_type": "execute_result",
          "data": {
            "text/plain": [
              "          ID  label    tanggal  \\\n",
              "19      6775      0  25-Oct-17   \n",
              "21      7038      0  13-Jul-17   \n",
              "22      7214      0   8-Mar-17   \n",
              "55     13483      0  17-Jul-18   \n",
              "58     13907      0  28-Apr-18   \n",
              "...      ...    ...        ...   \n",
              "585   137239      1  15-Feb-18   \n",
              "364    82546      1   2-Jul-20   \n",
              "2312  541666      1  18-May-20   \n",
              "2961  701358      1  26-Agu-18   \n",
              "2624  614055      1  17-Oct-16   \n",
              "\n",
              "                                                  judul  \\\n",
              "19         Sandi Sarankan Warga Ngadu ke Kelurahan Saja   \n",
              "21    Irina, Istri Ahli IT Hermansyah disebut Mantan...   \n",
              "22    Nezar Patria adalah Kader PKI, Ikut Rapat Seti...   \n",
              "55    Coach Indra Sjafri: Saya Pernah 1 Tahun Tak Di...   \n",
              "58    Kronologis Polisi Berondong Sedan Terobos Razi...   \n",
              "...                                                 ...   \n",
              "585   Pemerintah Akan Ngutang Lagi untuk Bayar Bunga...   \n",
              "364          Status Gerakan Si Kadrun Harus di Hentikan   \n",
              "2312         Perawat Royal td suaminya jg wafat barusan   \n",
              "2961       Rencana E-Voting Pada Pileg dan Pilpres 2019   \n",
              "2624  Hillary Clinton Menyatakan Ingin Belajar Pada ...   \n",
              "\n",
              "                                                 narasi nama file gambar  \n",
              "19    Astaga! Sandiaga Sarankan Warga Ngadu ke Kelur...         6775.jpg  \n",
              "21    Irina, Istri Ahli IT Hermansyah disebut Mantan...         7038.jpg  \n",
              "22    Nezar Patria adalah Kader PKI, Ikut Rapat Seti...         7214.jpg  \n",
              "55    Kendati sukses mengantarkan Timnas Indonesia U...        13483.png  \n",
              "58    Innalillah… Hanya Karena Lalai Terobos Razia, ...        13907.png  \n",
              "...                                                 ...              ...  \n",
              "585   Pemerintah Akan Ngutang Lagi untuk Bayar Bunga...       137239.jpg  \n",
              "364   Gerakan si kadrun harus di hentikan.👊kami siap...        82546.jpg  \n",
              "2312  Suaminya juga tiba2 jatuh… Delirium, Masuk ICU...       541666.png  \n",
              "2961  KAMI MENOLAK RENCANA E-VOTING PADA PILEG DAN P...       701358.jpg  \n",
              "2624  Dalam debat calon presiden Amerika siang tadi ...       614055.jpg  \n",
              "\n",
              "[1732 rows x 6 columns]"
            ],
            "text/html": [
              "\n",
              "  <div id=\"df-3b400594-412d-4c18-990d-6b394934a333\">\n",
              "    <div class=\"colab-df-container\">\n",
              "      <div>\n",
              "<style scoped>\n",
              "    .dataframe tbody tr th:only-of-type {\n",
              "        vertical-align: middle;\n",
              "    }\n",
              "\n",
              "    .dataframe tbody tr th {\n",
              "        vertical-align: top;\n",
              "    }\n",
              "\n",
              "    .dataframe thead th {\n",
              "        text-align: right;\n",
              "    }\n",
              "</style>\n",
              "<table border=\"1\" class=\"dataframe\">\n",
              "  <thead>\n",
              "    <tr style=\"text-align: right;\">\n",
              "      <th></th>\n",
              "      <th>ID</th>\n",
              "      <th>label</th>\n",
              "      <th>tanggal</th>\n",
              "      <th>judul</th>\n",
              "      <th>narasi</th>\n",
              "      <th>nama file gambar</th>\n",
              "    </tr>\n",
              "  </thead>\n",
              "  <tbody>\n",
              "    <tr>\n",
              "      <th>19</th>\n",
              "      <td>6775</td>\n",
              "      <td>0</td>\n",
              "      <td>25-Oct-17</td>\n",
              "      <td>Sandi Sarankan Warga Ngadu ke Kelurahan Saja</td>\n",
              "      <td>Astaga! Sandiaga Sarankan Warga Ngadu ke Kelur...</td>\n",
              "      <td>6775.jpg</td>\n",
              "    </tr>\n",
              "    <tr>\n",
              "      <th>21</th>\n",
              "      <td>7038</td>\n",
              "      <td>0</td>\n",
              "      <td>13-Jul-17</td>\n",
              "      <td>Irina, Istri Ahli IT Hermansyah disebut Mantan...</td>\n",
              "      <td>Irina, Istri Ahli IT Hermansyah disebut Mantan...</td>\n",
              "      <td>7038.jpg</td>\n",
              "    </tr>\n",
              "    <tr>\n",
              "      <th>22</th>\n",
              "      <td>7214</td>\n",
              "      <td>0</td>\n",
              "      <td>8-Mar-17</td>\n",
              "      <td>Nezar Patria adalah Kader PKI, Ikut Rapat Seti...</td>\n",
              "      <td>Nezar Patria adalah Kader PKI, Ikut Rapat Seti...</td>\n",
              "      <td>7214.jpg</td>\n",
              "    </tr>\n",
              "    <tr>\n",
              "      <th>55</th>\n",
              "      <td>13483</td>\n",
              "      <td>0</td>\n",
              "      <td>17-Jul-18</td>\n",
              "      <td>Coach Indra Sjafri: Saya Pernah 1 Tahun Tak Di...</td>\n",
              "      <td>Kendati sukses mengantarkan Timnas Indonesia U...</td>\n",
              "      <td>13483.png</td>\n",
              "    </tr>\n",
              "    <tr>\n",
              "      <th>58</th>\n",
              "      <td>13907</td>\n",
              "      <td>0</td>\n",
              "      <td>28-Apr-18</td>\n",
              "      <td>Kronologis Polisi Berondong Sedan Terobos Razi...</td>\n",
              "      <td>Innalillah… Hanya Karena Lalai Terobos Razia, ...</td>\n",
              "      <td>13907.png</td>\n",
              "    </tr>\n",
              "    <tr>\n",
              "      <th>...</th>\n",
              "      <td>...</td>\n",
              "      <td>...</td>\n",
              "      <td>...</td>\n",
              "      <td>...</td>\n",
              "      <td>...</td>\n",
              "      <td>...</td>\n",
              "    </tr>\n",
              "    <tr>\n",
              "      <th>585</th>\n",
              "      <td>137239</td>\n",
              "      <td>1</td>\n",
              "      <td>15-Feb-18</td>\n",
              "      <td>Pemerintah Akan Ngutang Lagi untuk Bayar Bunga...</td>\n",
              "      <td>Pemerintah Akan Ngutang Lagi untuk Bayar Bunga...</td>\n",
              "      <td>137239.jpg</td>\n",
              "    </tr>\n",
              "    <tr>\n",
              "      <th>364</th>\n",
              "      <td>82546</td>\n",
              "      <td>1</td>\n",
              "      <td>2-Jul-20</td>\n",
              "      <td>Status Gerakan Si Kadrun Harus di Hentikan</td>\n",
              "      <td>Gerakan si kadrun harus di hentikan.👊kami siap...</td>\n",
              "      <td>82546.jpg</td>\n",
              "    </tr>\n",
              "    <tr>\n",
              "      <th>2312</th>\n",
              "      <td>541666</td>\n",
              "      <td>1</td>\n",
              "      <td>18-May-20</td>\n",
              "      <td>Perawat Royal td suaminya jg wafat barusan</td>\n",
              "      <td>Suaminya juga tiba2 jatuh… Delirium, Masuk ICU...</td>\n",
              "      <td>541666.png</td>\n",
              "    </tr>\n",
              "    <tr>\n",
              "      <th>2961</th>\n",
              "      <td>701358</td>\n",
              "      <td>1</td>\n",
              "      <td>26-Agu-18</td>\n",
              "      <td>Rencana E-Voting Pada Pileg dan Pilpres 2019</td>\n",
              "      <td>KAMI MENOLAK RENCANA E-VOTING PADA PILEG DAN P...</td>\n",
              "      <td>701358.jpg</td>\n",
              "    </tr>\n",
              "    <tr>\n",
              "      <th>2624</th>\n",
              "      <td>614055</td>\n",
              "      <td>1</td>\n",
              "      <td>17-Oct-16</td>\n",
              "      <td>Hillary Clinton Menyatakan Ingin Belajar Pada ...</td>\n",
              "      <td>Dalam debat calon presiden Amerika siang tadi ...</td>\n",
              "      <td>614055.jpg</td>\n",
              "    </tr>\n",
              "  </tbody>\n",
              "</table>\n",
              "<p>1732 rows × 6 columns</p>\n",
              "</div>\n",
              "      <button class=\"colab-df-convert\" onclick=\"convertToInteractive('df-3b400594-412d-4c18-990d-6b394934a333')\"\n",
              "              title=\"Convert this dataframe to an interactive table.\"\n",
              "              style=\"display:none;\">\n",
              "        \n",
              "  <svg xmlns=\"http://www.w3.org/2000/svg\" height=\"24px\"viewBox=\"0 0 24 24\"\n",
              "       width=\"24px\">\n",
              "    <path d=\"M0 0h24v24H0V0z\" fill=\"none\"/>\n",
              "    <path d=\"M18.56 5.44l.94 2.06.94-2.06 2.06-.94-2.06-.94-.94-2.06-.94 2.06-2.06.94zm-11 1L8.5 8.5l.94-2.06 2.06-.94-2.06-.94L8.5 2.5l-.94 2.06-2.06.94zm10 10l.94 2.06.94-2.06 2.06-.94-2.06-.94-.94-2.06-.94 2.06-2.06.94z\"/><path d=\"M17.41 7.96l-1.37-1.37c-.4-.4-.92-.59-1.43-.59-.52 0-1.04.2-1.43.59L10.3 9.45l-7.72 7.72c-.78.78-.78 2.05 0 2.83L4 21.41c.39.39.9.59 1.41.59.51 0 1.02-.2 1.41-.59l7.78-7.78 2.81-2.81c.8-.78.8-2.07 0-2.86zM5.41 20L4 18.59l7.72-7.72 1.47 1.35L5.41 20z\"/>\n",
              "  </svg>\n",
              "      </button>\n",
              "      \n",
              "  <style>\n",
              "    .colab-df-container {\n",
              "      display:flex;\n",
              "      flex-wrap:wrap;\n",
              "      gap: 12px;\n",
              "    }\n",
              "\n",
              "    .colab-df-convert {\n",
              "      background-color: #E8F0FE;\n",
              "      border: none;\n",
              "      border-radius: 50%;\n",
              "      cursor: pointer;\n",
              "      display: none;\n",
              "      fill: #1967D2;\n",
              "      height: 32px;\n",
              "      padding: 0 0 0 0;\n",
              "      width: 32px;\n",
              "    }\n",
              "\n",
              "    .colab-df-convert:hover {\n",
              "      background-color: #E2EBFA;\n",
              "      box-shadow: 0px 1px 2px rgba(60, 64, 67, 0.3), 0px 1px 3px 1px rgba(60, 64, 67, 0.15);\n",
              "      fill: #174EA6;\n",
              "    }\n",
              "\n",
              "    [theme=dark] .colab-df-convert {\n",
              "      background-color: #3B4455;\n",
              "      fill: #D2E3FC;\n",
              "    }\n",
              "\n",
              "    [theme=dark] .colab-df-convert:hover {\n",
              "      background-color: #434B5C;\n",
              "      box-shadow: 0px 1px 3px 1px rgba(0, 0, 0, 0.15);\n",
              "      filter: drop-shadow(0px 1px 2px rgba(0, 0, 0, 0.3));\n",
              "      fill: #FFFFFF;\n",
              "    }\n",
              "  </style>\n",
              "\n",
              "      <script>\n",
              "        const buttonEl =\n",
              "          document.querySelector('#df-3b400594-412d-4c18-990d-6b394934a333 button.colab-df-convert');\n",
              "        buttonEl.style.display =\n",
              "          google.colab.kernel.accessAllowed ? 'block' : 'none';\n",
              "\n",
              "        async function convertToInteractive(key) {\n",
              "          const element = document.querySelector('#df-3b400594-412d-4c18-990d-6b394934a333');\n",
              "          const dataTable =\n",
              "            await google.colab.kernel.invokeFunction('convertToInteractive',\n",
              "                                                     [key], {});\n",
              "          if (!dataTable) return;\n",
              "\n",
              "          const docLinkHtml = 'Like what you see? Visit the ' +\n",
              "            '<a target=\"_blank\" href=https://colab.research.google.com/notebooks/data_table.ipynb>data table notebook</a>'\n",
              "            + ' to learn more about interactive tables.';\n",
              "          element.innerHTML = '';\n",
              "          dataTable['output_type'] = 'display_data';\n",
              "          await google.colab.output.renderOutput(dataTable, element);\n",
              "          const docLink = document.createElement('div');\n",
              "          docLink.innerHTML = docLinkHtml;\n",
              "          element.appendChild(docLink);\n",
              "        }\n",
              "      </script>\n",
              "    </div>\n",
              "  </div>\n",
              "  "
            ]
          },
          "metadata": {},
          "execution_count": 19
        }
      ]
    },
    {
      "cell_type": "code",
      "source": [
        "# Kita akan menggunakan fitur narasi saja dalam melakukan prediksi terhadap label\n",
        "feature = df['narasi']\n",
        "label = df['label']"
      ],
      "metadata": {
        "id": "T592sBzK80hc"
      },
      "execution_count": 20,
      "outputs": []
    },
    {
      "cell_type": "code",
      "source": [
        "# Mengubah semua huruf pada setiap baris menjadi huruf kecil dan\n",
        "# melakukan stemming pada setiap baris\n",
        "lower = [stemmer.stem(row.lower()) for row in feature]\n",
        "\n",
        "# Hasil stem dan lower\n",
        "lower[:5]"
      ],
      "metadata": {
        "id": "G9ooFtIt86GB"
      },
      "execution_count": null,
      "outputs": []
    },
    {
      "cell_type": "code",
      "source": [
        "# Melakukan tokenisasi untuk setiap baris dataset\n",
        "tokens = [word_tokenize(element) for element in lower]\n",
        "\n",
        "# Hasil tokenisasi setiap baris\n",
        "tokens[:5]"
      ],
      "metadata": {
        "id": "FZu4CpYP88x4"
      },
      "execution_count": null,
      "outputs": []
    },
    {
      "cell_type": "code",
      "source": [
        "# train_test_split digunakan untuk memecah dataset menjadi 2 bagian\n",
        "# X_train dan y_train mewakili data yang akan dilakukan pada fitting model(Training model)\n",
        "# X_test dan y_test  mewakili data yang akan dilakukan pada evaluasi model\n",
        "X_train, X_test, y_train, y_test = train_test_split(tokens, label, test_size=0.2, stratify=label)"
      ],
      "metadata": {
        "id": "ygVbCVWE_RHw"
      },
      "execution_count": null,
      "outputs": []
    },
    {
      "cell_type": "code",
      "source": [
        "# Melihat ukuran data latih dan data uji\n",
        "print('X_train : ', len(X_train))\n",
        "print('X_test : ', len(X_test))"
      ],
      "metadata": {
        "id": "KKxCPG60_YtN"
      },
      "execution_count": null,
      "outputs": []
    },
    {
      "cell_type": "code",
      "source": [
        "# Encoder for Data Label\n",
        "y_train = Encoder.fit_transform(y_train)\n",
        "y_test = Encoder.fit_transform(y_test)\n",
        "\n",
        "y_train"
      ],
      "metadata": {
        "id": "MPANRSlu_aTS"
      },
      "execution_count": null,
      "outputs": []
    },
    {
      "cell_type": "code",
      "source": [
        "# Fitting dataset terhadap tf-idf\n",
        "Tfidf_vect.fit([\"\".join(row) for row in X_train])"
      ],
      "metadata": {
        "id": "rTzsEhJg_cmh"
      },
      "execution_count": null,
      "outputs": []
    },
    {
      "cell_type": "code",
      "source": [
        "# Mentransformasikan hasil fitting terhadap data X_train dan X_test\n",
        "X_train_Tfidf = Tfidf_vect.transform([\" \".join(row) for row in X_train])\n",
        "X_test_Tfidf = Tfidf_vect.transform([\" \".join(row) for row in X_test])"
      ],
      "metadata": {
        "id": "ZMPAhQms_fGS"
      },
      "execution_count": null,
      "outputs": []
    }
  ]
}